{
 "cells": [
  {
   "cell_type": "code",
   "execution_count": 1,
   "id": "d5edb0fb",
   "metadata": {},
   "outputs": [
    {
     "name": "stdout",
     "output_type": "stream",
     "text": [
      "(16384, 13) (16384, 1)\n"
     ]
    }
   ],
   "source": [
    "import numpy as np\n",
    "from sklearn.model_selection import train_test_split\n",
    "from sklearn.neighbors import KNeighborsClassifier\n",
    "from sklearn.svm import SVC\n",
    "from sklearn.tree import DecisionTreeClassifier\n",
    "from sklearn.metrics import accuracy_score\n",
    "\n",
    "y=np.load(r\"C:\\z_space\\5th sem\\ML\\ML-lab3-main\\activation_maps_lines_image52_labelpixel.npy\")\n",
    "X=np.load(r\"C:\\z_space\\5th sem\\ML\\ML-lab3-main\\activation_maps_lines_image52_pixel.npy\")\n",
    "print(X.shape,y.shape)"
   ]
  },
  {
   "cell_type": "code",
   "execution_count": 2,
   "id": "5f45cb8a",
   "metadata": {},
   "outputs": [],
   "source": [
    "# Reshape your data into a 2D format (pixels x features)\n",
    "num_samples = X.shape[0]   # Total number of pixels\n",
    "num_features = X.shape[1]  # Number of features for each pixel"
   ]
  },
  {
   "cell_type": "code",
   "execution_count": 3,
   "id": "3c866bda",
   "metadata": {},
   "outputs": [
    {
     "name": "stdout",
     "output_type": "stream",
     "text": [
      "(16384, 13) (16384,)\n"
     ]
    }
   ],
   "source": [
    "X_reshaped = X.reshape(num_samples, num_features)\n",
    "y_reshaped = y.reshape(num_samples)  # Assuming y is your pixel-wise label mask\n",
    "print(X_reshaped.shape,y_reshaped.shape)"
   ]
  },
  {
   "cell_type": "code",
   "execution_count": 4,
   "id": "fd270957",
   "metadata": {},
   "outputs": [],
   "source": [
    "# Split the reshaped data into training and testing sets\n",
    "X_train, X_test, y_train, y_test = train_test_split(X_reshaped, y_reshaped, test_size=0.2, random_state=42)"
   ]
  }
 ],
 "metadata": {
  "kernelspec": {
   "display_name": "Python 3 (ipykernel)",
   "language": "python",
   "name": "python3"
  },
  "language_info": {
   "codemirror_mode": {
    "name": "ipython",
    "version": 3
   },
   "file_extension": ".py",
   "mimetype": "text/x-python",
   "name": "python",
   "nbconvert_exporter": "python",
   "pygments_lexer": "ipython3",
   "version": "3.11.4"
  }
 },
 "nbformat": 4,
 "nbformat_minor": 5
}
